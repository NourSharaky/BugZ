{
  "nbformat": 4,
  "nbformat_minor": 0,
  "metadata": {
    "colab": {
      "name": "CNN_mnist_model.ipynb",
      "provenance": [],
      "collapsed_sections": [],
      "toc_visible": true
    },
    "kernelspec": {
      "name": "python3",
      "display_name": "Python 3"
    },
    "accelerator": "GPU"
  },
  "cells": [
    {
      "cell_type": "markdown",
      "metadata": {
        "id": "RMtoDQ1Z53qD"
      },
      "source": [
        "# Imports"
      ]
    },
    {
      "cell_type": "markdown",
      "metadata": {
        "id": "G4GmDyag55DV"
      },
      "source": [
        "### Libraries"
      ]
    },
    {
      "cell_type": "code",
      "metadata": {
        "colab": {
          "base_uri": "https://localhost:8080/"
        },
        "id": "2Er4HAqO5tyC",
        "outputId": "7267e810-6468-485c-edab-27e391909476"
      },
      "source": [
        "# TensorFlow and tf.keras\n",
        "from tensorflow.keras import layers\n",
        "from tensorflow import keras \n",
        "import tensorflow as tf\n",
        "\n",
        "import numpy as np\n",
        "import pandas as pd\n",
        "import matplotlib.pyplot as plt\n",
        "import seaborn as sns\n",
        "import missingno as msno\n",
        "\n",
        "print(tf.__version__)"
      ],
      "execution_count": null,
      "outputs": [
        {
          "output_type": "stream",
          "text": [
            "2.4.0\n"
          ],
          "name": "stdout"
        }
      ]
    },
    {
      "cell_type": "markdown",
      "metadata": {
        "id": "BOq1gHVD6Dsa"
      },
      "source": [
        "### Dataset"
      ]
    },
    {
      "cell_type": "code",
      "metadata": {
        "id": "dFVWrH-96FNE"
      },
      "source": [
        "# Download the mnist dataset\n",
        "mnist = tf.keras.datasets.mnist\n",
        "\n",
        "# Load the dataset into '_raw' varible: They'll need further processing.\n",
        "(X_train, y_train), (X_test, y_test) = mnist.load_data()"
      ],
      "execution_count": null,
      "outputs": []
    },
    {
      "cell_type": "markdown",
      "metadata": {
        "id": "jt_p8TCw6NMW"
      },
      "source": [
        "### Custom functions"
      ]
    },
    {
      "cell_type": "code",
      "metadata": {
        "id": "RIZGAb6w6Ozz"
      },
      "source": [
        "def pprint_numpy_matrix(mat, fmt=\"g\"):\n",
        "    \"\"\"Pretty print a numpy matrix\"\"\"\n",
        "\n",
        "    col_maxes = [max([len((\"{:\"+fmt+\"}\").format(x)) for x in col]) for col in mat.T]\n",
        "\n",
        "    for x in mat:\n",
        "        for i, y in enumerate(x):\n",
        "            print((\"{:\"+str(col_maxes[i])+fmt+\"}\").format(y), end=\"  \")\n",
        "        print(\"\")\n"
      ],
      "execution_count": null,
      "outputs": []
    },
    {
      "cell_type": "markdown",
      "metadata": {
        "id": "84fLf6T_6Rnn"
      },
      "source": [
        "# Exploratory data analysis"
      ]
    },
    {
      "cell_type": "markdown",
      "metadata": {
        "id": "YKbquyVN6WAh"
      },
      "source": [
        "**Get the types of the variables**"
      ]
    },
    {
      "cell_type": "code",
      "metadata": {
        "colab": {
          "base_uri": "https://localhost:8080/"
        },
        "id": "Jygf1vAz6YR1",
        "outputId": "84e33f0f-3eae-4d42-9ccd-9e792884fc93"
      },
      "source": [
        "print(\"X_train\", type(X_train))\n",
        "print(\"y_train\", type(y_train))"
      ],
      "execution_count": null,
      "outputs": [
        {
          "output_type": "stream",
          "text": [
            "X_train <class 'numpy.ndarray'>\n",
            "y_train <class 'numpy.ndarray'>\n"
          ],
          "name": "stdout"
        }
      ]
    },
    {
      "cell_type": "markdown",
      "metadata": {
        "id": "_eECQZy06kFs"
      },
      "source": [
        "**Shapes**"
      ]
    },
    {
      "cell_type": "code",
      "metadata": {
        "colab": {
          "base_uri": "https://localhost:8080/"
        },
        "id": "GdBBL0Z36k_T",
        "outputId": "80c07296-7f00-43b9-ddd2-c228050e5bad"
      },
      "source": [
        "X_train.shape"
      ],
      "execution_count": null,
      "outputs": [
        {
          "output_type": "execute_result",
          "data": {
            "text/plain": [
              "(60000, 28, 28)"
            ]
          },
          "metadata": {
            "tags": []
          },
          "execution_count": 5
        }
      ]
    },
    {
      "cell_type": "code",
      "metadata": {
        "colab": {
          "base_uri": "https://localhost:8080/"
        },
        "id": "jaw4RLjI6n1j",
        "outputId": "8d469440-4e38-4951-b35b-b5eebea8d4b9"
      },
      "source": [
        "y_train.shape"
      ],
      "execution_count": null,
      "outputs": [
        {
          "output_type": "execute_result",
          "data": {
            "text/plain": [
              "(60000,)"
            ]
          },
          "metadata": {
            "tags": []
          },
          "execution_count": 6
        }
      ]
    },
    {
      "cell_type": "markdown",
      "metadata": {
        "id": "rudQOWm_7JRa"
      },
      "source": [
        "The train data are 60 000 images of 28x28 pixels, labeled."
      ]
    },
    {
      "cell_type": "markdown",
      "metadata": {
        "id": "e2Psqem98RH2"
      },
      "source": [
        "**Target**"
      ]
    },
    {
      "cell_type": "code",
      "metadata": {
        "colab": {
          "base_uri": "https://localhost:8080/"
        },
        "id": "V-EAP8zp8SWm",
        "outputId": "cd73c645-5ca3-42f3-e670-64b921c1261e"
      },
      "source": [
        "y_train[0]"
      ],
      "execution_count": null,
      "outputs": [
        {
          "output_type": "execute_result",
          "data": {
            "text/plain": [
              "5"
            ]
          },
          "metadata": {
            "tags": []
          },
          "execution_count": 7
        }
      ]
    },
    {
      "cell_type": "markdown",
      "metadata": {
        "id": "eePl29Gy8ZXb"
      },
      "source": [
        "The target are a 60 000 array. Each entry contain the number corresponfing to the image."
      ]
    },
    {
      "cell_type": "markdown",
      "metadata": {
        "id": "hSxhH_kt7oZs"
      },
      "source": [
        "### Display the images"
      ]
    },
    {
      "cell_type": "markdown",
      "metadata": {
        "id": "xHv4AtxI7uZo"
      },
      "source": [
        "About the images we'll be training on:\n",
        "- Each one is 28 pixels by 28 pixels, and totally black and white.\n",
        "- The 28 rows and 28 columns of numbers in the training data correspond to the 28 rows and 28 columns of pixels in the image.\n",
        "- The darkness of each pixel is represented as a number in the training data, where 0 is a white pixel and 255 is a black pixel. "
      ]
    },
    {
      "cell_type": "code",
      "metadata": {
        "colab": {
          "base_uri": "https://localhost:8080/",
          "height": 282
        },
        "id": "ncDB3qus7w__",
        "outputId": "1415a763-5fbe-4493-a4cb-cc51cb635670"
      },
      "source": [
        "# index can goes from 0 to 59 999\n",
        "index = 1526\n",
        "\n",
        "# Plot the image\n",
        "plt.imshow(X_train[index], cmap='Greys', interpolation='nearest')\n",
        "plt.show()\n",
        "\n",
        "# Print the image label\n",
        "print('This image represents the number', y_train[index])"
      ],
      "execution_count": null,
      "outputs": [
        {
          "output_type": "display_data",
          "data": {
            "image/png": "[encoded data removed]",
            "text/plain": [
              "<Figure size 432x288 with 1 Axes>"
            ]
          },
          "metadata": {
            "tags": [],
            "needs_background": "light"
          }
        },
        {
          "output_type": "stream",
          "text": [
            "This image represents the number 5\n"
          ],
          "name": "stdout"
        }
      ]
    },
    {
      "cell_type": "markdown",
      "metadata": {
        "id": "A7wP-qqQ74Mb"
      },
      "source": [
        "Print the numpy matrix"
      ]
    },
    {
      "cell_type": "code",
      "metadata": {
        "colab": {
          "base_uri": "https://localhost:8080/"
        },
        "id": "BeguSvk5750B",
        "outputId": "a3b4deda-5434-43da-dc5f-aad0c74287f0"
      },
      "source": [
        "pprint_numpy_matrix(X_train[index])"
      ],
      "execution_count": null,
      "outputs": [
        {
          "output_type": "stream",
          "text": [
            "0  0  0  0  0    0    0    0    0    0    0    0    0    0    0    0    0    0    0    0    0    0    0    0   0  0  0  0  \n",
            "0  0  0  0  0    0    0    0    0    0    0    0    0    0    0    0    0    0    0    0    0    0    0    0   0  0  0  0  \n",
            "0  0  0  0  0    0    0    0    0    0    0    0    0    0    0    0    0    0    0    0    0    0    0    0   0  0  0  0  \n",
            "0  0  0  0  0    0    0    0    0    0    0    0    0    0    0    0    0    0    0    0    0    0    0    0   0  0  0  0  \n",
            "0  0  0  0  0    0    0    0    0    0    0    0    0    0    0    0    0    0    0    0    0    0    0    0   0  0  0  0  \n",
            "0  0  0  0  0    0    0    0    1  158  255  151    7    7    7    4    7    7    2    0    0    0    0    0   0  0  0  0  \n",
            "0  0  0  0  0    0    0    1   37  253  253  253  253  253  253  196  253  253  156  136   89   59   71    0   0  0  0  0  \n",
            "0  0  0  0  0    0    0   19  253  253  253  253  253  253  253  253  253  253  253  253  253  199   88    0   0  0  0  0  \n",
            "0  0  0  0  0    0    0   31  253  253  253  249  228  228  228  228  192  205  228  228  228  228  128    0   0  0  0  0  \n",
            "0  0  0  0  0    0    2  156  253  234   99   82    0    0    0    0    0    0    0    0    0    0    0    0   0  0  0  0  \n",
            "0  0  0  0  0    0   13  253  253  222   24   38   99   65  161   68    9    0    0    0    0    0    0    0   0  0  0  0  \n",
            "0  0  0  0  0    0   95  253  253  227  177  253  253  253  253  253   77   22    0    0    0    0    0    0   0  0  0  0  \n",
            "0  0  0  0  0    0  136  253  253  253  253  253  253  253  253  253  230  173   50    8    0    0    0    0   0  0  0  0  \n",
            "0  0  0  0  0    2  162  253  253  253  245  197  236  253  253  253  253  253  253  190  180   45    0    0   0  0  0  0  \n",
            "0  0  0  0  0    7  253  253  253  200   58    0   47   68   68  161  209  253  253  253  253  225   13    0   0  0  0  0  \n",
            "0  0  0  0  0  101  253  253  247   72    0    0    0    0    0    0   18  161  208  253  253  253   82    4   0  0  0  0  \n",
            "0  0  0  0  0  130  253  248  101    0    0    0    0    0    0    0    0    0   19  225  115  235  253  109   0  0  0  0  \n",
            "0  0  0  0  0   29  172  100    0    0    0    0    0    0    0    0    0    0    0  118  234  249  253  231   5  0  0  0  \n",
            "0  0  0  0  0    0    0    0    0    0    0    0    0    0    0    0    0    0    0   16  126  253  253  253   5  0  0  0  \n",
            "0  0  0  0  0    0    0    0    0    0    0    0    0    0    0    0    0    0    0    0   15  233  253  253   5  0  0  0  \n",
            "0  0  0  0  0    0    0    0    0    0    0    0    0    0    0    0    0    0    0    0    0  169  253  253  66  0  0  0  \n",
            "0  0  0  0  0    0    0    0    0    0    0    0    0    0    0   52    0    0   89  166  215  251  253  204   3  0  0  0  \n",
            "0  0  0  0  0    0    0    0    0   84  236  214  112  200  175  244  236  236  250  253  253  253  204   15   0  0  0  0  \n",
            "0  0  0  0  0    0    0    0    0   98  253  253  172  219  253  253  253  253  253  253  149   84    7    0   0  0  0  0  \n",
            "0  0  0  0  0    0    0    0    0   16  129  190  126  216  253  220  226  114    5    5    1    0    0    0   0  0  0  0  \n",
            "0  0  0  0  0    0    0    0    0    0    0    0    0    0    0    0    0    0    0    0    0    0    0    0   0  0  0  0  \n",
            "0  0  0  0  0    0    0    0    0    0    0    0    0    0    0    0    0    0    0    0    0    0    0    0   0  0  0  0  \n",
            "0  0  0  0  0    0    0    0    0    0    0    0    0    0    0    0    0    0    0    0    0    0    0    0   0  0  0  0  \n"
          ],
          "name": "stdout"
        }
      ]
    },
    {
      "cell_type": "markdown",
      "metadata": {
        "id": "p7_aE0rl8C1T"
      },
      "source": [
        "# Cleaning"
      ]
    },
    {
      "cell_type": "markdown",
      "metadata": {
        "id": "fgUWZskk8KdC"
      },
      "source": [
        "### Target categorical encoding"
      ]
    },
    {
      "cell_type": "code",
      "metadata": {
        "id": "iFWAnPYk8NKW"
      },
      "source": [
        "y_train = keras.utils.to_categorical(y_train)\n",
        "y_test = keras.utils.to_categorical(y_test)"
      ],
      "execution_count": null,
      "outputs": []
    },
    {
      "cell_type": "markdown",
      "metadata": {
        "id": "-V8M4-NN8r26"
      },
      "source": [
        "Check categorical encoding:"
      ]
    },
    {
      "cell_type": "code",
      "metadata": {
        "colab": {
          "base_uri": "https://localhost:8080/"
        },
        "id": "tkrXpAWZ8t5i",
        "outputId": "4a040f2e-291e-4842-aec8-8683a0e90178"
      },
      "source": [
        "y_train[0]"
      ],
      "execution_count": null,
      "outputs": [
        {
          "output_type": "execute_result",
          "data": {
            "text/plain": [
              "array([0., 0., 0., 0., 0., 1., 0., 0., 0., 0.], dtype=float32)"
            ]
          },
          "metadata": {
            "tags": []
          },
          "execution_count": 11
        }
      ]
    },
    {
      "cell_type": "markdown",
      "metadata": {
        "id": "EV_gg3j7AsKk"
      },
      "source": [
        "### Reshape the features"
      ]
    },
    {
      "cell_type": "markdown",
      "metadata": {
        "id": "q0vOBE3kA5G0"
      },
      "source": [
        "As described here: https://stackoverflow.com/questions/44747343/keras-input-explanation-input-shape-units-batch-size-dim-etc\n",
        "\n",
        "2D convolutional layers need inputs at least as:\n",
        " - if using channels_last: (batch_size, imageside1, imageside2, channels)\n",
        " - if using channels_first: (batch_size, channels, imageside1, imageside2)\n",
        "\n",
        "So, in this case, our 2Dconv layer need a 4-dim input of (None, width, height, channel). Currently, we have only a (None, width, height) input. Let's create a 4th empty dimenstion:"
      ]
    },
    {
      "cell_type": "code",
      "metadata": {
        "id": "ULCarr_LBVix"
      },
      "source": [
        "X_train = X_train.reshape((X_train.shape[0], 28, 28, 1))\n",
        "X_test = X_test.reshape((X_test.shape[0], 28, 28, 1))"
      ],
      "execution_count": null,
      "outputs": []
    },
    {
      "cell_type": "markdown",
      "metadata": {
        "id": "kcD8IxJM8xts"
      },
      "source": [
        "### Cast features to float32"
      ]
    },
    {
      "cell_type": "markdown",
      "metadata": {
        "id": "1nlOwp6A82dH"
      },
      "source": [
        "Faster training time when dtype is float32"
      ]
    },
    {
      "cell_type": "code",
      "metadata": {
        "id": "G6wNsMiX80wL"
      },
      "source": [
        "X_train = X_train.astype('float32')\n",
        "X_test = X_test.astype('float32')"
      ],
      "execution_count": null,
      "outputs": []
    },
    {
      "cell_type": "markdown",
      "metadata": {
        "id": "yn0yTuPq8-23"
      },
      "source": [
        "### Features rescaling"
      ]
    },
    {
      "cell_type": "markdown",
      "metadata": {
        "id": "rt2eH6ku9AZ4"
      },
      "source": [
        "Resclate the features images from 0x255, to 0x1"
      ]
    },
    {
      "cell_type": "code",
      "metadata": {
        "id": "xfrtH3pL9HJX"
      },
      "source": [
        "X_train = X_train / 255.0\n",
        "X_test = X_test / 255.0"
      ],
      "execution_count": null,
      "outputs": []
    },
    {
      "cell_type": "code",
      "metadata": {
        "colab": {
          "base_uri": "https://localhost:8080/"
        },
        "id": "rwFQYbYx9I9U",
        "outputId": "f7db00e0-bb33-483d-e2a1-a81956d1cb84"
      },
      "source": [
        "# Check if the rescaling occurred correctly\n",
        "\n",
        "print(\"min\", X_train[index].min())\n",
        "print(\"max\", X_train[index].max())"
      ],
      "execution_count": null,
      "outputs": [
        {
          "output_type": "stream",
          "text": [
            "min 0.0\n",
            "max 1.0\n"
          ],
          "name": "stdout"
        }
      ]
    },
    {
      "cell_type": "markdown",
      "metadata": {
        "id": "XN1p1mZv9R-M"
      },
      "source": [
        "# Model creation"
      ]
    },
    {
      "cell_type": "code",
      "metadata": {
        "id": "RYU0yIGC9Vhc"
      },
      "source": [
        "def create_model():\n",
        "\n",
        "  # Init a sequential model\n",
        "  model = keras.Sequential([\n",
        "    \n",
        "\n",
        "    # Part 1: Feature detector\n",
        "    # --------------------------------------------------------------------------\n",
        "\n",
        "    # First VGG block\n",
        "    # Hidden layer 1: 32 filters, 3x3 kernel, relu activation function\n",
        "    layers.Conv2D(32, (3, 3), padding='same', input_shape=(28, 28, 1), kernel_initializer='he_uniform', activation='relu'),\n",
        "    layers.BatchNormalization(),\n",
        "\n",
        "    # Hidden layer 2: 32 filters, 3x3 kernel, relu activation function\n",
        "    layers.Conv2D(32, (3, 3), padding='same', kernel_initializer='he_uniform', activation='relu'),\n",
        "    layers.BatchNormalization(),\n",
        "\n",
        "    layers.MaxPooling2D((2, 2)),\n",
        "    layers.Dropout(0.2),\n",
        "\n",
        "\n",
        "    # Second VGG block\n",
        "    # Hidden layer 3: 64 filters, 3x3 kernel, relu activation function\n",
        "    layers.Conv2D(64, (3, 3), padding='same', kernel_initializer='he_uniform', activation='relu'),\n",
        "    layers.BatchNormalization(),\n",
        "\n",
        "    # Hidden layer 4: 64 filters, 3x3 kernel, relu activation function\n",
        "    layers.Conv2D(64, (3, 3), padding='same', kernel_initializer='he_uniform', activation='relu'),\n",
        "    layers.BatchNormalization(),\n",
        "\n",
        "    layers.MaxPooling2D((2, 2)),\n",
        "    layers.Dropout(0.3),\n",
        "\n",
        "\n",
        "    # Third VGG block\n",
        "    # Hidden layer 5: 128 filters, 3x3 kernel, relu activation function\n",
        "    layers.Conv2D(128, (3, 3), padding='same', kernel_initializer='he_uniform', activation='relu'),\n",
        "    layers.BatchNormalization(),\n",
        "\n",
        "    # Hidden layer 6: 128 filters, 3x3 kernel, relu activation function\n",
        "    layers.Conv2D(128, (3, 3), padding='same', kernel_initializer='he_uniform', activation='relu'),\n",
        "    layers.BatchNormalization(),\n",
        "\n",
        "    layers.MaxPooling2D((2, 2)),\n",
        "    layers.Dropout(0.4),\n",
        "    layers.Flatten(),\n",
        "\n",
        "\n",
        "    # Part 2: classifier\n",
        "    # --------------------------------------------------------------------------\n",
        "\n",
        "    # Simple ANN\n",
        "    layers.Dense(128, kernel_initializer='he_uniform', activation='relu'),\n",
        "    layers.BatchNormalization(),\n",
        "    layers.Dropout(0.5),\n",
        "\n",
        "\n",
        "    # Output layer\n",
        "    layers.Dense(10, activation='softmax')\n",
        "\n",
        "  ])\n",
        "\n",
        "  # Compile model \n",
        "  model.compile(loss=keras.losses.categorical_crossentropy,\n",
        "              optimizer=\"adam\",\n",
        "              metrics=['accuracy'])\n",
        "\n",
        "  return model"
      ],
      "execution_count": null,
      "outputs": []
    },
    {
      "cell_type": "markdown",
      "metadata": {
        "id": "uBPVRNk19lO6"
      },
      "source": [
        "Create the model on the GPU"
      ]
    },
    {
      "cell_type": "code",
      "metadata": {
        "id": "fHopv5_G9nHI"
      },
      "source": [
        "with tf.device('/device:GPU:0'):\n",
        "  model = create_model()"
      ],
      "execution_count": null,
      "outputs": []
    },
    {
      "cell_type": "code",
      "metadata": {
        "colab": {
          "base_uri": "https://localhost:8080/"
        },
        "id": "NrZMQ_VPBsIz",
        "outputId": "28d8cd41-3090-4481-9e38-b3967d637103"
      },
      "source": [
        "model.summary()"
      ],
      "execution_count": null,
      "outputs": [
        {
          "output_type": "stream",
          "text": [
            "Model: \"sequential\"\n",
            "_________________________________________________________________\n",
            "Layer (type)                 Output Shape              Param #   \n",
            "=================================================================\n",
            "conv2d (Conv2D)              (None, 28, 28, 32)        320       \n",
            "_________________________________________________________________\n",
            "batch_normalization (BatchNo (None, 28, 28, 32)        128       \n",
            "_________________________________________________________________\n",
            "conv2d_1 (Conv2D)            (None, 28, 28, 32)        9248      \n",
            "_________________________________________________________________\n",
            "batch_normalization_1 (Batch (None, 28, 28, 32)        128       \n",
            "_________________________________________________________________\n",
            "max_pooling2d (MaxPooling2D) (None, 14, 14, 32)        0         \n",
            "_________________________________________________________________\n",
            "dropout (Dropout)            (None, 14, 14, 32)        0         \n",
            "_________________________________________________________________\n",
            "conv2d_2 (Conv2D)            (None, 14, 14, 64)        18496     \n",
            "_________________________________________________________________\n",
            "batch_normalization_2 (Batch (None, 14, 14, 64)        256       \n",
            "_________________________________________________________________\n",
            "conv2d_3 (Conv2D)            (None, 14, 14, 64)        36928     \n",
            "_________________________________________________________________\n",
            "batch_normalization_3 (Batch (None, 14, 14, 64)        256       \n",
            "_________________________________________________________________\n",
            "max_pooling2d_1 (MaxPooling2 (None, 7, 7, 64)          0         \n",
            "_________________________________________________________________\n",
            "dropout_1 (Dropout)          (None, 7, 7, 64)          0         \n",
            "_________________________________________________________________\n",
            "conv2d_4 (Conv2D)            (None, 7, 7, 128)         73856     \n",
            "_________________________________________________________________\n",
            "batch_normalization_4 (Batch (None, 7, 7, 128)         512       \n",
            "_________________________________________________________________\n",
            "conv2d_5 (Conv2D)            (None, 7, 7, 128)         147584    \n",
            "_________________________________________________________________\n",
            "batch_normalization_5 (Batch (None, 7, 7, 128)         512       \n",
            "_________________________________________________________________\n",
            "max_pooling2d_2 (MaxPooling2 (None, 3, 3, 128)         0         \n",
            "_________________________________________________________________\n",
            "dropout_2 (Dropout)          (None, 3, 3, 128)         0         \n",
            "_________________________________________________________________\n",
            "flatten (Flatten)            (None, 1152)              0         \n",
            "_________________________________________________________________\n",
            "dense (Dense)                (None, 128)               147584    \n",
            "_________________________________________________________________\n",
            "batch_normalization_6 (Batch (None, 128)               512       \n",
            "_________________________________________________________________\n",
            "dropout_3 (Dropout)          (None, 128)               0         \n",
            "_________________________________________________________________\n",
            "dense_1 (Dense)              (None, 10)                1290      \n",
            "=================================================================\n",
            "Total params: 437,610\n",
            "Trainable params: 436,458\n",
            "Non-trainable params: 1,152\n",
            "_________________________________________________________________\n"
          ],
          "name": "stdout"
        }
      ]
    },
    {
      "cell_type": "markdown",
      "metadata": {
        "id": "X8mn3n3REffC"
      },
      "source": [
        "### Dataset augmentation"
      ]
    },
    {
      "cell_type": "markdown",
      "metadata": {
        "id": "ijkzq8KtHEwi"
      },
      "source": [
        "API: https://www.tensorflow.org/api_docs/python/tf/keras/preprocessing/image/ImageDataGenerator"
      ]
    },
    {
      "cell_type": "code",
      "metadata": {
        "id": "VWhrYjpaEiYZ"
      },
      "source": [
        "datagen = keras.preprocessing.image.ImageDataGenerator(\n",
        "    width_shift_range=0.1,\n",
        "    height_shift_range=0.1,\n",
        "    rotation_range=360)"
      ],
      "execution_count": null,
      "outputs": []
    },
    {
      "cell_type": "code",
      "metadata": {
        "id": "tcDM3j8iEl8B"
      },
      "source": [
        "datagen.fit(X_train)"
      ],
      "execution_count": null,
      "outputs": []
    },
    {
      "cell_type": "code",
      "metadata": {
        "id": "QcU-qRcIEnao"
      },
      "source": [
        "augmented_train = datagen.flow(X_train, y_train, batch_size=64)"
      ],
      "execution_count": null,
      "outputs": []
    },
    {
      "cell_type": "code",
      "metadata": {
        "colab": {
          "base_uri": "https://localhost:8080/"
        },
        "id": "jIhCY2teB10U",
        "outputId": "12b9c45b-bf94-4549-ac00-709c48500308"
      },
      "source": [
        "steps = int(X_train.shape[0] / 64)\n",
        "\n",
        "with tf.device('/device:GPU:0'):\n",
        "  history = model.fit_generator(augmented_train, steps_per_epoch=steps, epochs=200, validation_data=(X_test,y_test), shuffle=True)"
      ],
      "execution_count": null,
      "outputs": [
        {
          "output_type": "stream",
          "text": [
            "/usr/local/lib/python3.6/dist-packages/tensorflow/python/keras/engine/training.py:1844: UserWarning: `Model.fit_generator` is deprecated and will be removed in a future version. Please use `Model.fit`, which supports generators.\n",
            "  warnings.warn('`Model.fit_generator` is deprecated and '\n"
          ],
          "name": "stderr"
        },
        {
          "output_type": "stream",
          "text": [
            "Epoch 1/200\n",
            "937/937 [==============================] - 25s 23ms/step - loss: 1.8098 - accuracy: 0.4361 - val_loss: 0.3045 - val_accuracy: 0.9053\n",
            "Epoch 2/200\n",
            "937/937 [==============================] - 21s 23ms/step - loss: 0.5067 - accuracy: 0.8334 - val_loss: 0.2620 - val_accuracy: 0.9113\n",
            "Epoch 3/200\n",
            "937/937 [==============================] - 21s 22ms/step - loss: 0.3704 - accuracy: 0.8820 - val_loss: 0.1738 - val_accuracy: 0.9449\n",
            "Epoch 4/200\n",
            "937/937 [==============================] - 21s 22ms/step - loss: 0.3154 - accuracy: 0.9006 - val_loss: 0.1981 - val_accuracy: 0.9343\n",
            "Epoch 5/200\n",
            "937/937 [==============================] - 21s 22ms/step - loss: 0.2718 - accuracy: 0.9128 - val_loss: 0.1545 - val_accuracy: 0.9463\n",
            "Epoch 6/200\n",
            "937/937 [==============================] - 21s 23ms/step - loss: 0.2515 - accuracy: 0.9206 - val_loss: 0.1539 - val_accuracy: 0.9453\n",
            "Epoch 7/200\n",
            "937/937 [==============================] - 22s 23ms/step - loss: 0.2406 - accuracy: 0.9239 - val_loss: 0.1394 - val_accuracy: 0.9539\n",
            "Epoch 8/200\n",
            "937/937 [==============================] - 21s 22ms/step - loss: 0.2137 - accuracy: 0.9314 - val_loss: 0.1364 - val_accuracy: 0.9541\n",
            "Epoch 9/200\n",
            "937/937 [==============================] - 21s 22ms/step - loss: 0.2088 - accuracy: 0.9338 - val_loss: 0.1187 - val_accuracy: 0.9615\n",
            "Epoch 10/200\n",
            "937/937 [==============================] - 21s 22ms/step - loss: 0.2103 - accuracy: 0.9329 - val_loss: 0.1448 - val_accuracy: 0.9505\n",
            "Epoch 11/200\n",
            "937/937 [==============================] - 21s 22ms/step - loss: 0.1936 - accuracy: 0.9399 - val_loss: 0.1402 - val_accuracy: 0.9540\n",
            "Epoch 12/200\n",
            "937/937 [==============================] - 21s 22ms/step - loss: 0.1875 - accuracy: 0.9408 - val_loss: 0.1022 - val_accuracy: 0.9660\n",
            "Epoch 13/200\n",
            "937/937 [==============================] - 21s 22ms/step - loss: 0.1812 - accuracy: 0.9424 - val_loss: 0.1571 - val_accuracy: 0.9485\n",
            "Epoch 14/200\n",
            "937/937 [==============================] - 21s 22ms/step - loss: 0.1729 - accuracy: 0.9446 - val_loss: 0.1192 - val_accuracy: 0.9612\n",
            "Epoch 15/200\n",
            "937/937 [==============================] - 21s 22ms/step - loss: 0.1707 - accuracy: 0.9459 - val_loss: 0.1241 - val_accuracy: 0.9589\n",
            "Epoch 16/200\n",
            "937/937 [==============================] - 21s 22ms/step - loss: 0.1698 - accuracy: 0.9462 - val_loss: 0.1004 - val_accuracy: 0.9685\n",
            "Epoch 17/200\n",
            "937/937 [==============================] - 21s 22ms/step - loss: 0.1613 - accuracy: 0.9482 - val_loss: 0.1189 - val_accuracy: 0.9614\n",
            "Epoch 18/200\n",
            "937/937 [==============================] - 21s 22ms/step - loss: 0.1538 - accuracy: 0.9523 - val_loss: 0.1242 - val_accuracy: 0.9577\n",
            "Epoch 19/200\n",
            "937/937 [==============================] - 21s 22ms/step - loss: 0.1608 - accuracy: 0.9485 - val_loss: 0.1252 - val_accuracy: 0.9582\n",
            "Epoch 20/200\n",
            "937/937 [==============================] - 21s 22ms/step - loss: 0.1503 - accuracy: 0.9522 - val_loss: 0.1038 - val_accuracy: 0.9661\n",
            "Epoch 21/200\n",
            "937/937 [==============================] - 21s 23ms/step - loss: 0.1511 - accuracy: 0.9527 - val_loss: 0.1079 - val_accuracy: 0.9653\n",
            "Epoch 22/200\n",
            "937/937 [==============================] - 22s 23ms/step - loss: 0.1483 - accuracy: 0.9530 - val_loss: 0.1109 - val_accuracy: 0.9642\n",
            "Epoch 23/200\n",
            "937/937 [==============================] - 21s 23ms/step - loss: 0.1466 - accuracy: 0.9534 - val_loss: 0.0894 - val_accuracy: 0.9702\n",
            "Epoch 24/200\n",
            "937/937 [==============================] - 21s 23ms/step - loss: 0.1454 - accuracy: 0.9531 - val_loss: 0.1210 - val_accuracy: 0.9584\n",
            "Epoch 25/200\n",
            "937/937 [==============================] - 21s 22ms/step - loss: 0.1399 - accuracy: 0.9554 - val_loss: 0.1140 - val_accuracy: 0.9612\n",
            "Epoch 26/200\n",
            "937/937 [==============================] - 21s 23ms/step - loss: 0.1395 - accuracy: 0.9571 - val_loss: 0.0935 - val_accuracy: 0.9685\n",
            "Epoch 27/200\n",
            "937/937 [==============================] - 21s 23ms/step - loss: 0.1428 - accuracy: 0.9546 - val_loss: 0.1096 - val_accuracy: 0.9612\n",
            "Epoch 28/200\n",
            "937/937 [==============================] - 21s 23ms/step - loss: 0.1378 - accuracy: 0.9570 - val_loss: 0.0931 - val_accuracy: 0.9688\n",
            "Epoch 29/200\n",
            "937/937 [==============================] - 21s 23ms/step - loss: 0.1417 - accuracy: 0.9553 - val_loss: 0.0892 - val_accuracy: 0.9705\n",
            "Epoch 30/200\n",
            "937/937 [==============================] - 21s 23ms/step - loss: 0.1311 - accuracy: 0.9589 - val_loss: 0.1039 - val_accuracy: 0.9639\n",
            "Epoch 31/200\n",
            "937/937 [==============================] - 21s 23ms/step - loss: 0.1324 - accuracy: 0.9584 - val_loss: 0.0940 - val_accuracy: 0.9688\n",
            "Epoch 32/200\n",
            "937/937 [==============================] - 21s 23ms/step - loss: 0.1311 - accuracy: 0.9592 - val_loss: 0.0919 - val_accuracy: 0.9694\n",
            "Epoch 33/200\n",
            "937/937 [==============================] - 21s 23ms/step - loss: 0.1292 - accuracy: 0.9591 - val_loss: 0.1078 - val_accuracy: 0.9639\n",
            "Epoch 34/200\n",
            "937/937 [==============================] - 21s 23ms/step - loss: 0.1315 - accuracy: 0.9587 - val_loss: 0.0907 - val_accuracy: 0.9674\n",
            "Epoch 35/200\n",
            "937/937 [==============================] - 21s 23ms/step - loss: 0.1309 - accuracy: 0.9596 - val_loss: 0.0926 - val_accuracy: 0.9697\n",
            "Epoch 36/200\n",
            "937/937 [==============================] - 22s 23ms/step - loss: 0.1246 - accuracy: 0.9604 - val_loss: 0.1064 - val_accuracy: 0.9636\n",
            "Epoch 37/200\n",
            "937/937 [==============================] - 21s 23ms/step - loss: 0.1247 - accuracy: 0.9607 - val_loss: 0.0912 - val_accuracy: 0.9682\n",
            "Epoch 38/200\n",
            "937/937 [==============================] - 21s 22ms/step - loss: 0.1253 - accuracy: 0.9604 - val_loss: 0.0894 - val_accuracy: 0.9705\n",
            "Epoch 39/200\n",
            "937/937 [==============================] - 21s 22ms/step - loss: 0.1252 - accuracy: 0.9592 - val_loss: 0.0687 - val_accuracy: 0.9772\n",
            "Epoch 40/200\n",
            "937/937 [==============================] - 21s 22ms/step - loss: 0.1201 - accuracy: 0.9606 - val_loss: 0.0809 - val_accuracy: 0.9717\n",
            "Epoch 41/200\n",
            "937/937 [==============================] - 21s 22ms/step - loss: 0.1243 - accuracy: 0.9604 - val_loss: 0.0944 - val_accuracy: 0.9675\n",
            "Epoch 42/200\n",
            "937/937 [==============================] - 21s 22ms/step - loss: 0.1211 - accuracy: 0.9600 - val_loss: 0.0864 - val_accuracy: 0.9681\n",
            "Epoch 43/200\n",
            "937/937 [==============================] - 21s 22ms/step - loss: 0.1232 - accuracy: 0.9610 - val_loss: 0.0920 - val_accuracy: 0.9690\n",
            "Epoch 44/200\n",
            "937/937 [==============================] - 21s 22ms/step - loss: 0.1264 - accuracy: 0.9601 - val_loss: 0.0798 - val_accuracy: 0.9731\n",
            "Epoch 45/200\n",
            "937/937 [==============================] - 21s 22ms/step - loss: 0.1184 - accuracy: 0.9628 - val_loss: 0.0834 - val_accuracy: 0.9715\n",
            "Epoch 46/200\n",
            "937/937 [==============================] - 21s 22ms/step - loss: 0.1150 - accuracy: 0.9638 - val_loss: 0.1023 - val_accuracy: 0.9651\n",
            "Epoch 47/200\n",
            "937/937 [==============================] - 21s 22ms/step - loss: 0.1174 - accuracy: 0.9610 - val_loss: 0.0759 - val_accuracy: 0.9755\n",
            "Epoch 48/200\n",
            "937/937 [==============================] - 21s 22ms/step - loss: 0.1163 - accuracy: 0.9623 - val_loss: 0.0974 - val_accuracy: 0.9681\n",
            "Epoch 49/200\n",
            "937/937 [==============================] - 21s 22ms/step - loss: 0.1174 - accuracy: 0.9630 - val_loss: 0.0979 - val_accuracy: 0.9670\n",
            "Epoch 50/200\n",
            "937/937 [==============================] - 21s 22ms/step - loss: 0.1145 - accuracy: 0.9628 - val_loss: 0.0742 - val_accuracy: 0.9777\n",
            "Epoch 51/200\n",
            "937/937 [==============================] - 21s 22ms/step - loss: 0.1119 - accuracy: 0.9643 - val_loss: 0.0757 - val_accuracy: 0.9735\n",
            "Epoch 52/200\n",
            "937/937 [==============================] - 21s 22ms/step - loss: 0.1125 - accuracy: 0.9642 - val_loss: 0.0751 - val_accuracy: 0.9755\n",
            "Epoch 53/200\n",
            "937/937 [==============================] - 21s 22ms/step - loss: 0.1097 - accuracy: 0.9648 - val_loss: 0.0919 - val_accuracy: 0.9676\n",
            "Epoch 54/200\n",
            "937/937 [==============================] - 21s 22ms/step - loss: 0.1133 - accuracy: 0.9637 - val_loss: 0.0894 - val_accuracy: 0.9696\n",
            "Epoch 55/200\n",
            "937/937 [==============================] - 21s 22ms/step - loss: 0.1114 - accuracy: 0.9642 - val_loss: 0.0956 - val_accuracy: 0.9678\n",
            "Epoch 56/200\n",
            "937/937 [==============================] - 21s 22ms/step - loss: 0.1091 - accuracy: 0.9647 - val_loss: 0.0979 - val_accuracy: 0.9696\n",
            "Epoch 57/200\n",
            "937/937 [==============================] - 21s 22ms/step - loss: 0.1118 - accuracy: 0.9642 - val_loss: 0.0864 - val_accuracy: 0.9715\n",
            "Epoch 58/200\n",
            "937/937 [==============================] - 21s 22ms/step - loss: 0.1123 - accuracy: 0.9630 - val_loss: 0.0879 - val_accuracy: 0.9707\n",
            "Epoch 59/200\n",
            "937/937 [==============================] - 21s 22ms/step - loss: 0.1157 - accuracy: 0.9637 - val_loss: 0.0832 - val_accuracy: 0.9727\n",
            "Epoch 60/200\n",
            "937/937 [==============================] - 21s 22ms/step - loss: 0.1095 - accuracy: 0.9651 - val_loss: 0.0832 - val_accuracy: 0.9714\n",
            "Epoch 61/200\n",
            "937/937 [==============================] - 21s 22ms/step - loss: 0.1052 - accuracy: 0.9654 - val_loss: 0.0838 - val_accuracy: 0.9728\n",
            "Epoch 62/200\n",
            "937/937 [==============================] - 21s 22ms/step - loss: 0.1106 - accuracy: 0.9644 - val_loss: 0.0777 - val_accuracy: 0.9743\n",
            "Epoch 63/200\n",
            "937/937 [==============================] - 21s 23ms/step - loss: 0.1033 - accuracy: 0.9667 - val_loss: 0.0991 - val_accuracy: 0.9661\n",
            "Epoch 64/200\n",
            "937/937 [==============================] - 21s 23ms/step - loss: 0.1091 - accuracy: 0.9643 - val_loss: 0.0961 - val_accuracy: 0.9662\n",
            "Epoch 65/200\n",
            "937/937 [==============================] - 22s 23ms/step - loss: 0.1042 - accuracy: 0.9658 - val_loss: 0.0782 - val_accuracy: 0.9744\n",
            "Epoch 66/200\n",
            "937/937 [==============================] - 22s 23ms/step - loss: 0.1065 - accuracy: 0.9654 - val_loss: 0.0781 - val_accuracy: 0.9728\n",
            "Epoch 67/200\n",
            "937/937 [==============================] - 22s 23ms/step - loss: 0.1053 - accuracy: 0.9654 - val_loss: 0.0814 - val_accuracy: 0.9737\n",
            "Epoch 68/200\n",
            "937/937 [==============================] - 21s 23ms/step - loss: 0.1084 - accuracy: 0.9659 - val_loss: 0.0849 - val_accuracy: 0.9710\n",
            "Epoch 69/200\n",
            "937/937 [==============================] - 21s 23ms/step - loss: 0.1064 - accuracy: 0.9652 - val_loss: 0.0804 - val_accuracy: 0.9729\n",
            "Epoch 70/200\n",
            "937/937 [==============================] - 21s 23ms/step - loss: 0.1039 - accuracy: 0.9662 - val_loss: 0.0828 - val_accuracy: 0.9727\n",
            "Epoch 71/200\n",
            "937/937 [==============================] - 21s 23ms/step - loss: 0.1006 - accuracy: 0.9685 - val_loss: 0.0751 - val_accuracy: 0.9738\n",
            "Epoch 72/200\n",
            "937/937 [==============================] - 21s 22ms/step - loss: 0.1033 - accuracy: 0.9658 - val_loss: 0.0771 - val_accuracy: 0.9747\n",
            "Epoch 73/200\n",
            "937/937 [==============================] - 21s 22ms/step - loss: 0.1055 - accuracy: 0.9654 - val_loss: 0.0740 - val_accuracy: 0.9760\n",
            "Epoch 74/200\n",
            "937/937 [==============================] - 21s 22ms/step - loss: 0.1022 - accuracy: 0.9676 - val_loss: 0.0710 - val_accuracy: 0.9766\n",
            "Epoch 75/200\n",
            "937/937 [==============================] - 21s 22ms/step - loss: 0.1045 - accuracy: 0.9669 - val_loss: 0.0801 - val_accuracy: 0.9728\n",
            "Epoch 76/200\n",
            "937/937 [==============================] - 21s 23ms/step - loss: 0.1020 - accuracy: 0.9670 - val_loss: 0.0762 - val_accuracy: 0.9744\n",
            "Epoch 77/200\n",
            "937/937 [==============================] - 21s 22ms/step - loss: 0.1040 - accuracy: 0.9658 - val_loss: 0.0873 - val_accuracy: 0.9699\n",
            "Epoch 78/200\n",
            "937/937 [==============================] - 21s 22ms/step - loss: 0.1018 - accuracy: 0.9668 - val_loss: 0.0765 - val_accuracy: 0.9730\n",
            "Epoch 79/200\n",
            "937/937 [==============================] - 21s 23ms/step - loss: 0.1015 - accuracy: 0.9675 - val_loss: 0.0707 - val_accuracy: 0.9764\n",
            "Epoch 80/200\n",
            "937/937 [==============================] - 21s 23ms/step - loss: 0.1005 - accuracy: 0.9680 - val_loss: 0.0656 - val_accuracy: 0.9771\n",
            "Epoch 81/200\n",
            "937/937 [==============================] - 22s 23ms/step - loss: 0.1008 - accuracy: 0.9675 - val_loss: 0.0744 - val_accuracy: 0.9763\n",
            "Epoch 82/200\n",
            "937/937 [==============================] - 21s 23ms/step - loss: 0.0964 - accuracy: 0.9674 - val_loss: 0.0761 - val_accuracy: 0.9740\n",
            "Epoch 83/200\n",
            "937/937 [==============================] - 21s 23ms/step - loss: 0.1011 - accuracy: 0.9679 - val_loss: 0.0719 - val_accuracy: 0.9768\n",
            "Epoch 84/200\n",
            "937/937 [==============================] - 21s 23ms/step - loss: 0.0960 - accuracy: 0.9693 - val_loss: 0.0731 - val_accuracy: 0.9767\n",
            "Epoch 85/200\n",
            "937/937 [==============================] - 21s 23ms/step - loss: 0.1011 - accuracy: 0.9674 - val_loss: 0.0751 - val_accuracy: 0.9747\n",
            "Epoch 86/200\n",
            "937/937 [==============================] - 21s 23ms/step - loss: 0.0989 - accuracy: 0.9681 - val_loss: 0.0757 - val_accuracy: 0.9753\n",
            "Epoch 87/200\n",
            "937/937 [==============================] - 21s 23ms/step - loss: 0.1014 - accuracy: 0.9688 - val_loss: 0.0726 - val_accuracy: 0.9758\n",
            "Epoch 88/200\n",
            "937/937 [==============================] - 21s 23ms/step - loss: 0.0977 - accuracy: 0.9686 - val_loss: 0.0781 - val_accuracy: 0.9721\n",
            "Epoch 89/200\n",
            "937/937 [==============================] - 21s 23ms/step - loss: 0.0978 - accuracy: 0.9689 - val_loss: 0.0750 - val_accuracy: 0.9749\n",
            "Epoch 90/200\n",
            "937/937 [==============================] - 21s 23ms/step - loss: 0.1001 - accuracy: 0.9682 - val_loss: 0.0667 - val_accuracy: 0.9771\n",
            "Epoch 91/200\n",
            "937/937 [==============================] - 21s 23ms/step - loss: 0.0974 - accuracy: 0.9678 - val_loss: 0.0742 - val_accuracy: 0.9759\n",
            "Epoch 92/200\n",
            "937/937 [==============================] - 21s 22ms/step - loss: 0.0993 - accuracy: 0.9684 - val_loss: 0.0871 - val_accuracy: 0.9706\n",
            "Epoch 93/200\n",
            "937/937 [==============================] - 21s 22ms/step - loss: 0.1005 - accuracy: 0.9667 - val_loss: 0.0737 - val_accuracy: 0.9762\n",
            "Epoch 94/200\n",
            "937/937 [==============================] - 21s 23ms/step - loss: 0.1033 - accuracy: 0.9668 - val_loss: 0.0635 - val_accuracy: 0.9786\n",
            "Epoch 95/200\n",
            "937/937 [==============================] - 21s 23ms/step - loss: 0.0916 - accuracy: 0.9703 - val_loss: 0.0699 - val_accuracy: 0.9769\n",
            "Epoch 96/200\n",
            "937/937 [==============================] - 21s 23ms/step - loss: 0.0976 - accuracy: 0.9683 - val_loss: 0.0802 - val_accuracy: 0.9733\n",
            "Epoch 97/200\n",
            "937/937 [==============================] - 21s 23ms/step - loss: 0.0966 - accuracy: 0.9685 - val_loss: 0.0850 - val_accuracy: 0.9713\n",
            "Epoch 98/200\n",
            "937/937 [==============================] - 21s 22ms/step - loss: 0.0972 - accuracy: 0.9679 - val_loss: 0.0742 - val_accuracy: 0.9761\n",
            "Epoch 99/200\n",
            "937/937 [==============================] - 21s 22ms/step - loss: 0.0954 - accuracy: 0.9691 - val_loss: 0.0737 - val_accuracy: 0.9757\n",
            "Epoch 100/200\n",
            "937/937 [==============================] - 21s 22ms/step - loss: 0.0961 - accuracy: 0.9677 - val_loss: 0.0614 - val_accuracy: 0.9798\n",
            "Epoch 101/200\n",
            "937/937 [==============================] - 21s 23ms/step - loss: 0.0976 - accuracy: 0.9692 - val_loss: 0.0685 - val_accuracy: 0.9777\n",
            "Epoch 102/200\n",
            "937/937 [==============================] - 21s 23ms/step - loss: 0.0944 - accuracy: 0.9692 - val_loss: 0.0811 - val_accuracy: 0.9726\n",
            "Epoch 103/200\n",
            "937/937 [==============================] - 21s 22ms/step - loss: 0.0951 - accuracy: 0.9685 - val_loss: 0.0817 - val_accuracy: 0.9724\n",
            "Epoch 104/200\n",
            "937/937 [==============================] - 21s 22ms/step - loss: 0.0953 - accuracy: 0.9691 - val_loss: 0.0679 - val_accuracy: 0.9754\n",
            "Epoch 105/200\n",
            "937/937 [==============================] - 21s 22ms/step - loss: 0.0972 - accuracy: 0.9684 - val_loss: 0.0876 - val_accuracy: 0.9691\n",
            "Epoch 106/200\n",
            "937/937 [==============================] - 21s 22ms/step - loss: 0.0946 - accuracy: 0.9701 - val_loss: 0.0643 - val_accuracy: 0.9788\n",
            "Epoch 107/200\n",
            "937/937 [==============================] - 21s 22ms/step - loss: 0.0943 - accuracy: 0.9699 - val_loss: 0.0694 - val_accuracy: 0.9779\n",
            "Epoch 108/200\n",
            "937/937 [==============================] - 21s 22ms/step - loss: 0.0948 - accuracy: 0.9687 - val_loss: 0.0685 - val_accuracy: 0.9758\n",
            "Epoch 109/200\n",
            "937/937 [==============================] - 21s 22ms/step - loss: 0.0964 - accuracy: 0.9686 - val_loss: 0.0692 - val_accuracy: 0.9763\n",
            "Epoch 110/200\n",
            "937/937 [==============================] - 21s 23ms/step - loss: 0.0953 - accuracy: 0.9694 - val_loss: 0.0755 - val_accuracy: 0.9755\n",
            "Epoch 111/200\n",
            "937/937 [==============================] - 21s 22ms/step - loss: 0.0992 - accuracy: 0.9682 - val_loss: 0.0599 - val_accuracy: 0.9803\n",
            "Epoch 112/200\n",
            "937/937 [==============================] - 21s 22ms/step - loss: 0.0987 - accuracy: 0.9687 - val_loss: 0.0871 - val_accuracy: 0.9716\n",
            "Epoch 113/200\n",
            "937/937 [==============================] - 21s 22ms/step - loss: 0.0885 - accuracy: 0.9713 - val_loss: 0.0748 - val_accuracy: 0.9769\n",
            "Epoch 114/200\n",
            "937/937 [==============================] - 21s 22ms/step - loss: 0.0976 - accuracy: 0.9687 - val_loss: 0.0658 - val_accuracy: 0.9783\n",
            "Epoch 115/200\n",
            "937/937 [==============================] - 21s 22ms/step - loss: 0.0945 - accuracy: 0.9696 - val_loss: 0.0686 - val_accuracy: 0.9768\n",
            "Epoch 116/200\n",
            "937/937 [==============================] - 21s 22ms/step - loss: 0.0944 - accuracy: 0.9695 - val_loss: 0.0692 - val_accuracy: 0.9768\n",
            "Epoch 117/200\n",
            "937/937 [==============================] - 21s 22ms/step - loss: 0.0961 - accuracy: 0.9701 - val_loss: 0.0722 - val_accuracy: 0.9767\n",
            "Epoch 118/200\n",
            "937/937 [==============================] - 21s 22ms/step - loss: 0.0921 - accuracy: 0.9699 - val_loss: 0.0690 - val_accuracy: 0.9777\n",
            "Epoch 119/200\n",
            "937/937 [==============================] - 21s 22ms/step - loss: 0.0892 - accuracy: 0.9702 - val_loss: 0.0702 - val_accuracy: 0.9746\n",
            "Epoch 120/200\n",
            "937/937 [==============================] - 21s 22ms/step - loss: 0.0876 - accuracy: 0.9715 - val_loss: 0.0708 - val_accuracy: 0.9764\n",
            "Epoch 121/200\n",
            "937/937 [==============================] - 21s 22ms/step - loss: 0.0896 - accuracy: 0.9711 - val_loss: 0.0689 - val_accuracy: 0.9752\n",
            "Epoch 122/200\n",
            "937/937 [==============================] - 21s 22ms/step - loss: 0.0901 - accuracy: 0.9704 - val_loss: 0.0672 - val_accuracy: 0.9784\n",
            "Epoch 123/200\n",
            "937/937 [==============================] - 21s 22ms/step - loss: 0.0905 - accuracy: 0.9706 - val_loss: 0.0637 - val_accuracy: 0.9798\n",
            "Epoch 124/200\n",
            "937/937 [==============================] - 21s 22ms/step - loss: 0.0903 - accuracy: 0.9706 - val_loss: 0.0742 - val_accuracy: 0.9739\n",
            "Epoch 125/200\n",
            "937/937 [==============================] - 21s 23ms/step - loss: 0.0933 - accuracy: 0.9703 - val_loss: 0.0825 - val_accuracy: 0.9727\n",
            "Epoch 126/200\n",
            "937/937 [==============================] - 21s 22ms/step - loss: 0.0917 - accuracy: 0.9691 - val_loss: 0.0753 - val_accuracy: 0.9742\n",
            "Epoch 127/200\n",
            "937/937 [==============================] - 21s 22ms/step - loss: 0.0933 - accuracy: 0.9696 - val_loss: 0.0842 - val_accuracy: 0.9706\n",
            "Epoch 128/200\n",
            "937/937 [==============================] - 21s 22ms/step - loss: 0.0921 - accuracy: 0.9701 - val_loss: 0.0720 - val_accuracy: 0.9770\n",
            "Epoch 129/200\n",
            "937/937 [==============================] - 21s 23ms/step - loss: 0.0902 - accuracy: 0.9711 - val_loss: 0.0611 - val_accuracy: 0.9798\n",
            "Epoch 130/200\n",
            "937/937 [==============================] - 21s 23ms/step - loss: 0.0856 - accuracy: 0.9715 - val_loss: 0.0781 - val_accuracy: 0.9724\n",
            "Epoch 131/200\n",
            "937/937 [==============================] - 22s 23ms/step - loss: 0.0881 - accuracy: 0.9718 - val_loss: 0.0684 - val_accuracy: 0.9765\n",
            "Epoch 132/200\n",
            "937/937 [==============================] - 21s 23ms/step - loss: 0.0894 - accuracy: 0.9714 - val_loss: 0.0538 - val_accuracy: 0.9818\n",
            "Epoch 133/200\n",
            "937/937 [==============================] - 22s 23ms/step - loss: 0.0940 - accuracy: 0.9702 - val_loss: 0.0674 - val_accuracy: 0.9772\n",
            "Epoch 134/200\n",
            "937/937 [==============================] - 21s 23ms/step - loss: 0.0887 - accuracy: 0.9715 - val_loss: 0.0714 - val_accuracy: 0.9753\n",
            "Epoch 135/200\n",
            "937/937 [==============================] - 21s 23ms/step - loss: 0.0913 - accuracy: 0.9707 - val_loss: 0.0657 - val_accuracy: 0.9774\n",
            "Epoch 136/200\n",
            "937/937 [==============================] - 21s 23ms/step - loss: 0.0853 - accuracy: 0.9721 - val_loss: 0.0821 - val_accuracy: 0.9723\n",
            "Epoch 137/200\n",
            "937/937 [==============================] - 22s 23ms/step - loss: 0.0848 - accuracy: 0.9720 - val_loss: 0.0581 - val_accuracy: 0.9796\n",
            "Epoch 138/200\n",
            "937/937 [==============================] - 21s 23ms/step - loss: 0.0904 - accuracy: 0.9705 - val_loss: 0.0531 - val_accuracy: 0.9819\n",
            "Epoch 139/200\n",
            "937/937 [==============================] - 21s 23ms/step - loss: 0.0867 - accuracy: 0.9715 - val_loss: 0.0756 - val_accuracy: 0.9736\n",
            "Epoch 140/200\n",
            "937/937 [==============================] - 22s 23ms/step - loss: 0.0900 - accuracy: 0.9715 - val_loss: 0.0631 - val_accuracy: 0.9779\n",
            "Epoch 141/200\n",
            "937/937 [==============================] - 21s 23ms/step - loss: 0.0920 - accuracy: 0.9698 - val_loss: 0.0674 - val_accuracy: 0.9778\n",
            "Epoch 142/200\n",
            "937/937 [==============================] - 21s 23ms/step - loss: 0.0889 - accuracy: 0.9718 - val_loss: 0.0679 - val_accuracy: 0.9774\n",
            "Epoch 143/200\n",
            "937/937 [==============================] - 22s 23ms/step - loss: 0.0894 - accuracy: 0.9700 - val_loss: 0.0597 - val_accuracy: 0.9801\n",
            "Epoch 144/200\n",
            "937/937 [==============================] - 21s 23ms/step - loss: 0.0874 - accuracy: 0.9707 - val_loss: 0.0721 - val_accuracy: 0.9751\n",
            "Epoch 145/200\n",
            "937/937 [==============================] - 21s 23ms/step - loss: 0.0866 - accuracy: 0.9721 - val_loss: 0.0666 - val_accuracy: 0.9760\n",
            "Epoch 146/200\n",
            "937/937 [==============================] - 22s 23ms/step - loss: 0.0894 - accuracy: 0.9699 - val_loss: 0.0676 - val_accuracy: 0.9756\n",
            "Epoch 147/200\n",
            "937/937 [==============================] - 22s 23ms/step - loss: 0.0862 - accuracy: 0.9719 - val_loss: 0.0600 - val_accuracy: 0.9797\n",
            "Epoch 148/200\n",
            "937/937 [==============================] - 21s 22ms/step - loss: 0.0888 - accuracy: 0.9711 - val_loss: 0.0674 - val_accuracy: 0.9770\n",
            "Epoch 149/200\n",
            "937/937 [==============================] - 21s 22ms/step - loss: 0.0880 - accuracy: 0.9722 - val_loss: 0.0615 - val_accuracy: 0.9791\n",
            "Epoch 150/200\n",
            "937/937 [==============================] - 21s 23ms/step - loss: 0.0871 - accuracy: 0.9704 - val_loss: 0.0828 - val_accuracy: 0.9708\n",
            "Epoch 151/200\n",
            "937/937 [==============================] - 21s 23ms/step - loss: 0.0896 - accuracy: 0.9703 - val_loss: 0.0703 - val_accuracy: 0.9754\n",
            "Epoch 152/200\n",
            "937/937 [==============================] - 22s 23ms/step - loss: 0.0840 - accuracy: 0.9724 - val_loss: 0.0822 - val_accuracy: 0.9739\n",
            "Epoch 153/200\n",
            "937/937 [==============================] - 21s 23ms/step - loss: 0.0878 - accuracy: 0.9696 - val_loss: 0.0616 - val_accuracy: 0.9799\n",
            "Epoch 154/200\n",
            "937/937 [==============================] - 22s 23ms/step - loss: 0.0883 - accuracy: 0.9709 - val_loss: 0.0593 - val_accuracy: 0.9796\n",
            "Epoch 155/200\n",
            "937/937 [==============================] - 21s 23ms/step - loss: 0.0916 - accuracy: 0.9709 - val_loss: 0.0677 - val_accuracy: 0.9774\n",
            "Epoch 156/200\n",
            "937/937 [==============================] - 22s 23ms/step - loss: 0.0861 - accuracy: 0.9722 - val_loss: 0.0482 - val_accuracy: 0.9842\n",
            "Epoch 157/200\n",
            "937/937 [==============================] - 22s 23ms/step - loss: 0.0843 - accuracy: 0.9723 - val_loss: 0.0597 - val_accuracy: 0.9792\n",
            "Epoch 158/200\n",
            "937/937 [==============================] - 21s 23ms/step - loss: 0.0875 - accuracy: 0.9716 - val_loss: 0.0640 - val_accuracy: 0.9782\n",
            "Epoch 159/200\n",
            "937/937 [==============================] - 21s 23ms/step - loss: 0.0866 - accuracy: 0.9710 - val_loss: 0.0679 - val_accuracy: 0.9776\n",
            "Epoch 160/200\n",
            "937/937 [==============================] - 22s 23ms/step - loss: 0.0883 - accuracy: 0.9712 - val_loss: 0.0670 - val_accuracy: 0.9771\n",
            "Epoch 161/200\n",
            "937/937 [==============================] - 22s 23ms/step - loss: 0.0885 - accuracy: 0.9720 - val_loss: 0.0693 - val_accuracy: 0.9762\n",
            "Epoch 162/200\n",
            "937/937 [==============================] - 22s 23ms/step - loss: 0.0877 - accuracy: 0.9716 - val_loss: 0.0565 - val_accuracy: 0.9807\n",
            "Epoch 163/200\n",
            "937/937 [==============================] - 22s 23ms/step - loss: 0.0830 - accuracy: 0.9726 - val_loss: 0.0719 - val_accuracy: 0.9757\n",
            "Epoch 164/200\n",
            "937/937 [==============================] - 22s 23ms/step - loss: 0.0892 - accuracy: 0.9721 - val_loss: 0.0604 - val_accuracy: 0.9791\n",
            "Epoch 165/200\n",
            "937/937 [==============================] - 22s 23ms/step - loss: 0.0833 - accuracy: 0.9721 - val_loss: 0.0660 - val_accuracy: 0.9777\n",
            "Epoch 166/200\n",
            "937/937 [==============================] - 22s 23ms/step - loss: 0.0861 - accuracy: 0.9714 - val_loss: 0.0643 - val_accuracy: 0.9776\n",
            "Epoch 167/200\n",
            "937/937 [==============================] - 21s 23ms/step - loss: 0.0871 - accuracy: 0.9707 - val_loss: 0.0719 - val_accuracy: 0.9750\n",
            "Epoch 168/200\n",
            "937/937 [==============================] - 22s 23ms/step - loss: 0.0851 - accuracy: 0.9710 - val_loss: 0.0601 - val_accuracy: 0.9797\n",
            "Epoch 169/200\n",
            "937/937 [==============================] - 22s 23ms/step - loss: 0.0898 - accuracy: 0.9705 - val_loss: 0.0603 - val_accuracy: 0.9796\n",
            "Epoch 170/200\n",
            "937/937 [==============================] - 21s 23ms/step - loss: 0.0853 - accuracy: 0.9723 - val_loss: 0.0551 - val_accuracy: 0.9817\n",
            "Epoch 171/200\n",
            "937/937 [==============================] - 21s 23ms/step - loss: 0.0871 - accuracy: 0.9711 - val_loss: 0.0698 - val_accuracy: 0.9774\n",
            "Epoch 172/200\n",
            "937/937 [==============================] - 21s 23ms/step - loss: 0.0848 - accuracy: 0.9724 - val_loss: 0.0714 - val_accuracy: 0.9762\n",
            "Epoch 173/200\n",
            "937/937 [==============================] - 21s 23ms/step - loss: 0.0854 - accuracy: 0.9727 - val_loss: 0.0616 - val_accuracy: 0.9787\n",
            "Epoch 174/200\n",
            "937/937 [==============================] - 21s 23ms/step - loss: 0.0809 - accuracy: 0.9736 - val_loss: 0.0650 - val_accuracy: 0.9783\n",
            "Epoch 175/200\n",
            "937/937 [==============================] - 21s 23ms/step - loss: 0.0839 - accuracy: 0.9723 - val_loss: 0.0645 - val_accuracy: 0.9799\n",
            "Epoch 176/200\n",
            "937/937 [==============================] - 21s 23ms/step - loss: 0.0829 - accuracy: 0.9725 - val_loss: 0.0621 - val_accuracy: 0.9791\n",
            "Epoch 177/200\n",
            "937/937 [==============================] - 21s 23ms/step - loss: 0.0860 - accuracy: 0.9717 - val_loss: 0.0700 - val_accuracy: 0.9767\n",
            "Epoch 178/200\n",
            "937/937 [==============================] - 21s 23ms/step - loss: 0.0834 - accuracy: 0.9732 - val_loss: 0.0613 - val_accuracy: 0.9804\n",
            "Epoch 179/200\n",
            "937/937 [==============================] - 21s 23ms/step - loss: 0.0844 - accuracy: 0.9710 - val_loss: 0.0757 - val_accuracy: 0.9735\n",
            "Epoch 180/200\n",
            "937/937 [==============================] - 21s 22ms/step - loss: 0.0846 - accuracy: 0.9717 - val_loss: 0.0696 - val_accuracy: 0.9757\n",
            "Epoch 181/200\n",
            "937/937 [==============================] - 20s 22ms/step - loss: 0.0846 - accuracy: 0.9720 - val_loss: 0.0627 - val_accuracy: 0.9788\n",
            "Epoch 182/200\n",
            "937/937 [==============================] - 20s 22ms/step - loss: 0.0848 - accuracy: 0.9720 - val_loss: 0.0600 - val_accuracy: 0.9800\n",
            "Epoch 183/200\n",
            "937/937 [==============================] - 20s 22ms/step - loss: 0.0839 - accuracy: 0.9732 - val_loss: 0.0632 - val_accuracy: 0.9789\n",
            "Epoch 184/200\n",
            "937/937 [==============================] - 20s 22ms/step - loss: 0.0822 - accuracy: 0.9734 - val_loss: 0.0688 - val_accuracy: 0.9772\n",
            "Epoch 185/200\n",
            "937/937 [==============================] - 21s 22ms/step - loss: 0.0846 - accuracy: 0.9718 - val_loss: 0.0648 - val_accuracy: 0.9774\n",
            "Epoch 186/200\n",
            "937/937 [==============================] - 21s 22ms/step - loss: 0.0801 - accuracy: 0.9740 - val_loss: 0.0710 - val_accuracy: 0.9752\n",
            "Epoch 187/200\n",
            "937/937 [==============================] - 21s 22ms/step - loss: 0.0827 - accuracy: 0.9734 - val_loss: 0.0587 - val_accuracy: 0.9796\n",
            "Epoch 188/200\n",
            "937/937 [==============================] - 20s 22ms/step - loss: 0.0849 - accuracy: 0.9714 - val_loss: 0.0630 - val_accuracy: 0.9797\n",
            "Epoch 189/200\n",
            "937/937 [==============================] - 21s 22ms/step - loss: 0.0851 - accuracy: 0.9711 - val_loss: 0.0623 - val_accuracy: 0.9780\n",
            "Epoch 190/200\n",
            "937/937 [==============================] - 21s 22ms/step - loss: 0.0852 - accuracy: 0.9725 - val_loss: 0.0651 - val_accuracy: 0.9786\n",
            "Epoch 191/200\n",
            "937/937 [==============================] - 21s 22ms/step - loss: 0.0841 - accuracy: 0.9724 - val_loss: 0.0625 - val_accuracy: 0.9790\n",
            "Epoch 192/200\n",
            "937/937 [==============================] - 21s 22ms/step - loss: 0.0826 - accuracy: 0.9725 - val_loss: 0.0721 - val_accuracy: 0.9761\n",
            "Epoch 193/200\n",
            "937/937 [==============================] - 21s 22ms/step - loss: 0.0882 - accuracy: 0.9708 - val_loss: 0.0597 - val_accuracy: 0.9803\n",
            "Epoch 194/200\n",
            "937/937 [==============================] - 21s 22ms/step - loss: 0.0826 - accuracy: 0.9730 - val_loss: 0.0747 - val_accuracy: 0.9744\n",
            "Epoch 195/200\n",
            "937/937 [==============================] - 21s 22ms/step - loss: 0.0803 - accuracy: 0.9725 - val_loss: 0.0686 - val_accuracy: 0.9776\n",
            "Epoch 196/200\n",
            "937/937 [==============================] - 21s 22ms/step - loss: 0.0791 - accuracy: 0.9740 - val_loss: 0.0566 - val_accuracy: 0.9810\n",
            "Epoch 197/200\n",
            "937/937 [==============================] - 21s 22ms/step - loss: 0.0829 - accuracy: 0.9726 - val_loss: 0.0665 - val_accuracy: 0.9782\n",
            "Epoch 198/200\n",
            "937/937 [==============================] - 21s 23ms/step - loss: 0.0806 - accuracy: 0.9739 - val_loss: 0.0681 - val_accuracy: 0.9775\n",
            "Epoch 199/200\n",
            "937/937 [==============================] - 21s 22ms/step - loss: 0.0801 - accuracy: 0.9731 - val_loss: 0.0620 - val_accuracy: 0.9783\n",
            "Epoch 200/200\n",
            "937/937 [==============================] - 21s 22ms/step - loss: 0.0823 - accuracy: 0.9729 - val_loss: 0.0604 - val_accuracy: 0.9781\n"
          ],
          "name": "stdout"
        }
      ]
    },
    {
      "cell_type": "code",
      "metadata": {
        "colab": {
          "base_uri": "https://localhost:8080/"
        },
        "id": "lH2hXcqCDVEj",
        "outputId": "6f846f39-415b-48da-a87e-0022670f1368"
      },
      "source": [
        "scores = model.evaluate(X_test, y_test, verbose=0)\n",
        "print(\"Accuracy: %.2f%%\" % (scores[1]*100))"
      ],
      "execution_count": null,
      "outputs": [
        {
          "output_type": "stream",
          "text": [
            "Accuracy: 97.81%\n"
          ],
          "name": "stdout"
        }
      ]
    },
    {
      "cell_type": "code",
      "metadata": {
        "id": "2bbAwWfaF_t9"
      },
      "source": [
        "width, height, *_ = X_train[0].shape\n",
        "example = X_train[0].reshape(1, width, height, 1)"
      ],
      "execution_count": null,
      "outputs": []
    },
    {
      "cell_type": "code",
      "metadata": {
        "colab": {
          "base_uri": "https://localhost:8080/"
        },
        "id": "9Zimax31F3SV",
        "outputId": "a0c1d0d3-a06e-41d4-a1c0-b824d645ee1e"
      },
      "source": [
        "model.predict(example)"
      ],
      "execution_count": null,
      "outputs": [
        {
          "output_type": "execute_result",
          "data": {
            "text/plain": [
              "array([[8.7719663e-06, 1.6161330e-05, 6.6036795e-05, 3.9591165e-03,\n",
              "        4.8596361e-03, 9.7946852e-01, 1.2501853e-03, 9.7255921e-03,\n",
              "        4.8106565e-05, 5.9799373e-04]], dtype=float32)"
            ]
          },
          "metadata": {
            "tags": []
          },
          "execution_count": 25
        }
      ]
    },
    {
      "cell_type": "markdown",
      "metadata": {
        "id": "8WIgX5joDX8t"
      },
      "source": [
        "# Model evaluation"
      ]
    },
    {
      "cell_type": "code",
      "metadata": {
        "colab": {
          "base_uri": "https://localhost:8080/",
          "height": 265
        },
        "id": "zq2a3On_DZkO",
        "outputId": "1c1d5af7-06f6-4df6-f100-7f48ba43dcad"
      },
      "source": [
        "plt.plot(history.history['loss'], label='Train Loss')\n",
        "plt.plot(history.history['val_loss'], label='Validation Loss')\n",
        "plt.legend()\n",
        "plt.show()"
      ],
      "execution_count": null,
      "outputs": [
        {
          "output_type": "display_data",
          "data": {
            "image/png": "[encoded data removed]",
            "text/plain": [
              "<Figure size 432x288 with 1 Axes>"
            ]
          },
          "metadata": {
            "tags": [],
            "needs_background": "light"
          }
        }
      ]
    },
    {
      "cell_type": "code",
      "metadata": {
        "colab": {
          "base_uri": "https://localhost:8080/",
          "height": 268
        },
        "id": "OZ2sDSOgDcBn",
        "outputId": "7c2a93d2-598a-4c82-caa0-5e0ad351c130"
      },
      "source": [
        "plt.plot(history.history['accuracy'], label='Train accuracy')\n",
        "plt.plot(history.history['val_accuracy'], label='Validation accuracy')\n",
        "plt.legend()\n",
        "plt.show()"
      ],
      "execution_count": null,
      "outputs": [
        {
          "output_type": "display_data",
          "data": {
            "image/png": "[encoded data removed]",
            "text/plain": [
              "<Figure size 432x288 with 1 Axes>"
            ]
          },
          "metadata": {
            "tags": [],
            "needs_background": "light"
          }
        }
      ]
    },
    {
      "cell_type": "markdown",
      "metadata": {
        "id": "IhnPsX8dOj_v"
      },
      "source": [
        "# Model exportation"
      ]
    },
    {
      "cell_type": "code",
      "metadata": {
        "id": "eS_3R94HOYrQ"
      },
      "source": [
        "model.save('mnist_cnn_model.h5')"
      ],
      "execution_count": null,
      "outputs": []
    }
  ]
}